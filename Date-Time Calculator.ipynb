{
 "cells": [
  {
   "cell_type": "code",
   "execution_count": 2,
   "id": "e9dd1f4b",
   "metadata": {},
   "outputs": [
    {
     "name": "stdout",
     "output_type": "stream",
     "text": [
      "Current date and time 2022-04-28T13:17:35.618951\n",
      "Current year is 2022\n",
      "Current month is 4\n",
      "Current Week Number is 17\n",
      "Weekday is 4\n"
     ]
    }
   ],
   "source": [
    "# Author: Chibuko Ozobu\n",
    "# Date: 4/28/22\n",
    "\n",
    "import datetime\n",
    "import calendar\n",
    "\n",
    "d = datetime.datetime.now()\n",
    "print(f\"Current date and time {d.isoformat()}\")\n",
    "print(f\"Current year is {d.year}\")\n",
    "print(f\"Current month is {d.month}\")\n",
    "print(f\"Current Week Number is {d.isocalendar()[1]}\")\n",
    "print(f\"Weekday is {d.weekday()+1}\")"
   ]
  },
  {
   "cell_type": "code",
   "execution_count": null,
   "id": "fba275f8",
   "metadata": {},
   "outputs": [],
   "source": []
  }
 ],
 "metadata": {
  "kernelspec": {
   "display_name": "Python 3 (ipykernel)",
   "language": "python",
   "name": "python3"
  },
  "language_info": {
   "codemirror_mode": {
    "name": "ipython",
    "version": 3
   },
   "file_extension": ".py",
   "mimetype": "text/x-python",
   "name": "python",
   "nbconvert_exporter": "python",
   "pygments_lexer": "ipython3",
   "version": "3.9.7"
  }
 },
 "nbformat": 4,
 "nbformat_minor": 5
}
