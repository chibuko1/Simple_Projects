{
 "cells": [
  {
   "cell_type": "code",
   "execution_count": 15,
   "id": "840cd9f0",
   "metadata": {},
   "outputs": [
    {
     "name": "stdout",
     "output_type": "stream",
     "text": [
      "Do you want small, medium, or large? large\n",
      "Do you want brewed, espresso, or cold press? brewed\n",
      "Do you want a flavored syrup? (Yes or No) no\n",
      "You asked for a large cup of brewed coffee. Your cup of coffee costs $4.0. The price with tip is $4.6\n"
     ]
    }
   ],
   "source": [
    "# Author: Chibuko Ozobu\n",
    "# Date: 4/20/2022\n",
    "\n",
    "size = input(\"Do you want small, medium, or large? \").lower()\n",
    "if(size != \"small\" and size != \"medium\" and size != \"large\"):\n",
    "    print(\"You entered in an incorrect size\")\n",
    "\n",
    "coffee_type = input(\"Do you want brewed, espresso, or cold press? \").lower()\n",
    "if(coffee_type != \"brewed\" and coffee_type != \"espresso\" and coffee_type != \"cold press\"):\n",
    "    print(\"You entered in an incorrect coffee type\")\n",
    "    \n",
    "\n",
    "syrup = input(\"Do you want a flavored syrup? (Yes or No) \").lower()\n",
    "if(syrup != \"yes\" and syrup != \"no\"):\n",
    "    print(\"You did not answer the question correctly\")\n",
    "if(syrup == \"yes\"):\n",
    "    flavor=input(\"Do you want hazelnut, vanilla, or caramel? \").lower()\n",
    "    if(flavor != \"hazelnut\" and flavor != \"vanilla\" and flavor != \"caramel\" and flavor != \"no\"):\n",
    "        print(\"You entered in an incorrect flavor\")\n",
    "    \n",
    "\n",
    "price = 0.0\n",
    "final_str = \"You asked for a \" #the start of the final string to be printed out about what was ordered\n",
    "\n",
    "if(size == \"small\"):\n",
    "    price = price + 2\n",
    "    final_str = final_str + size + \" cup of \"\n",
    "if( size == \"medium\"):\n",
    "    price = price + 3\n",
    "    final_str = final_str + size + \" cup of \"\n",
    "if(size == \"large\"):\n",
    "    price = price + 4\n",
    "    final_str = final_str + size + \" cup of \"\n",
    "    \n",
    "if(coffee_type == \"espresso\"):\n",
    "    price = price + 0.5\n",
    "    final_str = final_str + coffee_type + \" coffee\"\n",
    "if(coffee_type == \"cold press\"):\n",
    "    price = price + 1\n",
    "    final_str = final_str + coffee_type + \" coffee\"\n",
    "if(coffee_type == \"brewed\"):\n",
    "    final_str = final_str + coffee_type + \" coffee\"\n",
    "\n",
    "if(syrup == \"yes\"):\n",
    "    if(flavor != \"no\"):\n",
    "        price = price + .50\n",
    "        final_str = final_str + \" with \" + flavor + \" syrup.\"\n",
    "else:\n",
    "    final_str = final_str + \".\"\n",
    "    \n",
    "tip = price*1.15\n",
    "final_str = final_str + \" Your cup of coffee costs $\" + str(round(price,2)) + \". The price with tip is $\" + str(round(tip,2))\n",
    "print(final_str)"
   ]
  },
  {
   "cell_type": "code",
   "execution_count": null,
   "id": "79c5b01b",
   "metadata": {},
   "outputs": [],
   "source": []
  },
  {
   "cell_type": "code",
   "execution_count": null,
   "id": "9bd53084",
   "metadata": {},
   "outputs": [],
   "source": []
  }
 ],
 "metadata": {
  "kernelspec": {
   "display_name": "Python 3 (ipykernel)",
   "language": "python",
   "name": "python3"
  },
  "language_info": {
   "codemirror_mode": {
    "name": "ipython",
    "version": 3
   },
   "file_extension": ".py",
   "mimetype": "text/x-python",
   "name": "python",
   "nbconvert_exporter": "python",
   "pygments_lexer": "ipython3",
   "version": "3.9.7"
  }
 },
 "nbformat": 4,
 "nbformat_minor": 5
}
